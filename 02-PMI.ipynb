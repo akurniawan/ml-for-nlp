{
 "metadata": {
  "language_info": {
   "codemirror_mode": {
    "name": "ipython",
    "version": 3
   },
   "file_extension": ".py",
   "mimetype": "text/x-python",
   "name": "python",
   "nbconvert_exporter": "python",
   "pygments_lexer": "ipython3",
   "version": "3.8.5-final"
  },
  "orig_nbformat": 2,
  "kernelspec": {
   "name": "python3",
   "display_name": "Python 3.8.5 64-bit ('ml-from-scratch': conda)",
   "metadata": {
    "interpreter": {
     "hash": "f56b48201391ec51f66770704c31deba39c8cb8cb2bf4754e2829baf11b1f874"
    }
   }
  }
 },
 "nbformat": 4,
 "nbformat_minor": 2,
 "cells": [
  {
   "cell_type": "code",
   "execution_count": 1,
   "metadata": {},
   "outputs": [],
   "source": [
    "import numpy as np"
   ]
  },
  {
   "cell_type": "code",
   "execution_count": 15,
   "metadata": {},
   "outputs": [],
   "source": [
    "def cosine_similarity(x, y):\n",
    "    norm_x = np.sqrt((x ** 2).sum())\n",
    "    norm_y = np.sqrt((y ** 2).sum())\n",
    "    return x.dot(y) / (norm_x * norm_y)\n",
    "\n",
    "def ppmi(x):\n",
    "    x_sum = np.sum(x, 0)\n",
    "    y_sum = np.sum(x, 1)\n",
    "    div = np.outer(y_sum, x_sum) / x_sum.sum()\n",
    "    # div = np.tile(y_sum[:, np.newaxis], (1, x_sum.shape[0])) * x_sum\n",
    "\n",
    "    res = np.log(x / div)\n",
    "\n",
    "    # Remove all infinites\n",
    "    res[res == -np.inf] = 0.\n",
    "\n",
    "    # Since we only care about positive pmi\n",
    "    res[res < 0.] = 0.\n",
    "    return res"
   ]
  },
  {
   "cell_type": "code",
   "execution_count": 16,
   "metadata": {},
   "outputs": [],
   "source": [
    "mat = np.array([[0., 10., 0., 40.], [10., 1., 10., 31.], [15., 2., 6., 30.]])"
   ]
  },
  {
   "cell_type": "code",
   "execution_count": 17,
   "metadata": {},
   "outputs": [
    {
     "output_type": "stream",
     "name": "stdout",
     "text": [
      "house and cat:  0.8893700254783142\ncat and dog:  0.9815220877044243\n"
     ]
    }
   ],
   "source": [
    "print(\"house and cat: \", cosine_similarity(mat[0], mat[1]))\n",
    "print(\"cat and dog: \", cosine_similarity(mat[1], mat[2]))"
   ]
  },
  {
   "cell_type": "code",
   "execution_count": 18,
   "metadata": {},
   "outputs": [],
   "source": [
    "pmi_mat = ppmi(mat)"
   ]
  },
  {
   "cell_type": "code",
   "execution_count": 19,
   "metadata": {},
   "outputs": [
    {
     "output_type": "stream",
     "name": "stdout",
     "text": [
      "house and cat:  0.0\ncat and dog:  0.42432217820733625\n"
     ]
    }
   ],
   "source": [
    "print(\"house and cat: \", cosine_similarity(pmi_mat[0], pmi_mat[1]))\n",
    "print(\"cat and dog: \", cosine_similarity(pmi_mat[1], pmi_mat[2]))"
   ]
  },
  {
   "cell_type": "code",
   "execution_count": 20,
   "metadata": {},
   "outputs": [
    {
     "output_type": "execute_result",
     "data": {
      "text/plain": [
       "array([[0.        , 0.86903785, 0.        , 0.20516105],\n",
       "       [0.17589067, 0.        , 0.62217777, 0.        ],\n",
       "       [0.56230758, 0.        , 0.09230395, 0.        ]])"
      ]
     },
     "metadata": {},
     "execution_count": 20
    }
   ],
   "source": [
    "pmi_mat"
   ]
  },
  {
   "cell_type": "code",
   "execution_count": null,
   "metadata": {},
   "outputs": [],
   "source": [
    "house and cat:  -0.9024793003269693\n",
    "cat and dog:  0.8424509377282863\n",
    "\n",
    "house and cat:  0.0\n",
    "cat and dog:  0.42432217820733625"
   ]
  }
 ]
}