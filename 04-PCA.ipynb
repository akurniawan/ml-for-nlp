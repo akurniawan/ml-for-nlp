{
 "metadata": {
  "language_info": {
   "codemirror_mode": {
    "name": "ipython",
    "version": 3
   },
   "file_extension": ".py",
   "mimetype": "text/x-python",
   "name": "python",
   "nbconvert_exporter": "python",
   "pygments_lexer": "ipython3",
   "version": "3.8.5-final"
  },
  "orig_nbformat": 2,
  "kernelspec": {
   "name": "python3",
   "display_name": "Python 3"
  }
 },
 "nbformat": 4,
 "nbformat_minor": 2,
 "cells": [
  {
   "cell_type": "code",
   "execution_count": 94,
   "metadata": {},
   "outputs": [],
   "source": [
    "import numpy as np\n",
    "\n",
    "from sklearn.decomposition import PCA as skPCA"
   ]
  },
  {
   "cell_type": "code",
   "execution_count": 3,
   "metadata": {},
   "outputs": [],
   "source": [
    "from sklearn.datasets import fetch_20newsgroups\n",
    "from sklearn.feature_extraction.text import CountVectorizer\n",
    "\n",
    "train = fetch_20newsgroups(subset='train', categories=['alt.atheism', 'talk.religion.misc'])\n",
    "vectorizer = CountVectorizer(stop_words=\"english\", min_df=5)\n",
    "vectors = np.asarray(vectorizer.fit_transform(train.data).todense())"
   ]
  },
  {
   "cell_type": "code",
   "execution_count": 112,
   "metadata": {},
   "outputs": [],
   "source": [
    "def cov_matrix(x, y=None):\n",
    "    if not y:\n",
    "        y = x\n",
    "    \n",
    "    x_mean = x.mean(0)\n",
    "    y_mean = y.mean(0)\n",
    "    cov = (x - x_mean).T.dot((y - y_mean)) / (x.shape[0] - 1)\n",
    "    return cov\n",
    "\n",
    "\n",
    "class PCA(object):\n",
    "    def __init__(self, k):\n",
    "        self.k = k\n",
    "\n",
    "    def fit_transform(self, X):\n",
    "        cov_x = cov_matrix(x)\n",
    "        values, vectors = np.linalg.eig(cov_x)\n",
    "        idx = values.argsort()[::-1]\n",
    "        vectors = vectors[:, idx][:, :self.k]\n",
    "        return X.dot(vectors)"
   ]
  },
  {
   "cell_type": "code",
   "execution_count": 113,
   "metadata": {},
   "outputs": [],
   "source": [
    "x = np.random.randint(1, 5, (5, 10))"
   ]
  },
  {
   "cell_type": "code",
   "execution_count": 114,
   "metadata": {},
   "outputs": [
    {
     "output_type": "stream",
     "name": "stdout",
     "text": [
      "[[ 0.09985169+0.j  0.09588418+0.j  1.71477422+0.j]\n [-1.66430645+0.j -0.97753876+0.j -2.58806643+0.j]\n [-0.57730403+0.j -3.375087  +0.j  1.23171213+0.j]\n [-5.78178077+0.j -0.19815848+0.j  1.17643663+0.j]\n [-0.47793451+0.j  2.29123252+0.j  0.3787557 +0.j]]\n"
     ]
    }
   ],
   "source": [
    "pca = PCA(3)\n",
    "print(pca.fit_transform(x))"
   ]
  },
  {
   "cell_type": "code",
   "execution_count": 115,
   "metadata": {},
   "outputs": [
    {
     "output_type": "execute_result",
     "data": {
      "text/plain": [
       "array([[-1.78014650e+00, -5.28617686e-01, -1.33205177e+00],\n",
       "       [-1.59883662e-02,  5.44805255e-01,  2.97078888e+00],\n",
       "       [-1.10299079e+00,  2.94235349e+00, -8.48989681e-01],\n",
       "       [ 4.10148596e+00, -2.34575035e-01, -7.93714181e-01],\n",
       "       [-1.20236031e+00, -2.72396603e+00,  3.96675213e-03]])"
      ]
     },
     "metadata": {},
     "execution_count": 115
    }
   ],
   "source": [
    "skpca = skPCA(3)\n",
    "skpca.fit_transform(x) # the result is different as scikitlearn implements the decompositino with svd instead of eigen"
   ]
  },
  {
   "cell_type": "code",
   "execution_count": null,
   "metadata": {},
   "outputs": [],
   "source": []
  }
 ]
}