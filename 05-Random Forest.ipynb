{
 "metadata": {
  "language_info": {
   "codemirror_mode": {
    "name": "ipython",
    "version": 3
   },
   "file_extension": ".py",
   "mimetype": "text/x-python",
   "name": "python",
   "nbconvert_exporter": "python",
   "pygments_lexer": "ipython3",
   "version": "3.8.5-final"
  },
  "orig_nbformat": 2,
  "kernelspec": {
   "name": "python3",
   "display_name": "Python 3.8.5 64-bit",
   "metadata": {
    "interpreter": {
     "hash": "f56b48201391ec51f66770704c31deba39c8cb8cb2bf4754e2829baf11b1f874"
    }
   }
  }
 },
 "nbformat": 4,
 "nbformat_minor": 2,
 "cells": [
  {
   "cell_type": "code",
   "execution_count": 1,
   "metadata": {},
   "outputs": [],
   "source": [
    "import numpy as np"
   ]
  },
  {
   "cell_type": "code",
   "execution_count": 2,
   "metadata": {},
   "outputs": [],
   "source": [
    "from sklearn.datasets import fetch_20newsgroups\n",
    "from sklearn.feature_extraction.text import CountVectorizer\n",
    "\n",
    "train = fetch_20newsgroups(subset='train', categories=['alt.atheism', 'talk.religion.misc'])\n",
    "vectorizer = CountVectorizer(stop_words=\"english\", min_df=5)\n",
    "vectors = np.asarray(vectorizer.fit_transform(train.data).todense())"
   ]
  },
  {
   "cell_type": "code",
   "execution_count": 119,
   "metadata": {},
   "outputs": [],
   "source": [
    "def divide_by_features(curr_X, X, y, thres):\n",
    "    X_left = X[curr_X <= thres]\n",
    "    y_left = y[curr_X <= thres]\n",
    "    X_right = X[curr_X > thres]\n",
    "    y_right = y[curr_X > thres]\n",
    "\n",
    "    return X_left, y_left, X_right, y_right\n",
    "\n",
    "\n",
    "def entropy(c):\n",
    "    entropy = 0\n",
    "    for label in np.unique(c):\n",
    "        prob = len(c[c == label]) / c.shape[0]\n",
    "        entropy += -prob * np.log2(prob)\n",
    "    return entropy\n",
    "\n",
    "\n",
    "def impurity_score(y, y_left, y_right):\n",
    "    parent_entropy = entropy(y)\n",
    "    left_entropy = entropy(y_left)\n",
    "    right_entropy = entropy(y_right)\n",
    "    p = len(y_left) / len(y)\n",
    "    return parent_entropy - (p * left_entropy + (1 - p) * right_entropy)\n",
    "\n",
    "\n",
    "def majority_vote(y):\n",
    "    print(y)\n",
    "    labels = np.unique(y)\n",
    "    max_cnt = 0\n",
    "    max_val = 0\n",
    "    for label in labels:\n",
    "        cnt = len(y[y == label])\n",
    "        if cnt > max_cnt:\n",
    "            max_cnt = cnt\n",
    "            max_val = label\n",
    "    return max_val\n",
    "\n",
    "\n",
    "class Node(object):\n",
    "    def __init__(self, feature_name=\"\", feature_thres=\"\", label=-1):\n",
    "        self.feature_name = feature_name\n",
    "        self.feature_thres = feature_thres\n",
    "        self.label = label\n",
    "        self.left = None\n",
    "        self.right = None\n",
    "\n",
    "\n",
    "class DecisionTree(object):\n",
    "    def __init__(self, max_depth=10, min_samples=2):\n",
    "        self.max_depth = max_depth\n",
    "        self.min_samples = min_samples\n",
    "        self.root = None\n",
    "\n",
    "    def fit(self, X, y):\n",
    "        self.root = self._fit_tree(X, y, 0)\n",
    "\n",
    "    def _fit_tree(self, X, y, depth):\n",
    "        max_score = 0\n",
    "        best_features = {}\n",
    "        if len(y) >= self.min_samples and depth < self.max_depth:\n",
    "            for idx in range(X.shape[1]):\n",
    "                curr_X = X[:, idx]\n",
    "                unique_features = np.unique(curr_X)\n",
    "                for val in unique_features:\n",
    "                    X_left, y_left, X_right, y_right = divide_by_features(curr_X, X, y, val)\n",
    "                    ig_score = impurity_score(y, y_left, y_right)\n",
    "\n",
    "                    if ig_score > max_score:\n",
    "                        max_score = ig_score\n",
    "                        best_features = {\n",
    "                            \"feature_name\": idx,\n",
    "                            \"feature_thres\": val,\n",
    "                            \"left_side\": (X_left, y_left),\n",
    "                            \"right_side\": (X_right, y_right)\n",
    "                        }\n",
    "\n",
    "        if max_score > 0.:\n",
    "            # print(depth, max_score, best_features)\n",
    "            node = Node(best_features[\"feature_name\"], best_features[\"feature_thres\"])\n",
    "            node.left = self._fit_tree(*best_features[\"left_side\"], depth + 1)\n",
    "            node.right = self._fit_tree(*best_features[\"right_side\"], depth + 1)\n",
    "            return node\n",
    "        return Node(label=majority_vote(y))\n",
    "\n",
    "    def predict(self, X):\n",
    "        return np.array([self._predict_tree(x, self.root) for x in X])\n",
    "\n",
    "    def _predict_tree(self, x, node):\n",
    "        if node:\n",
    "            # print(x, node.feature_name, node.feature_thres, node.label)\n",
    "            if node.label == -1:\n",
    "                val = x[node.feature_name]\n",
    "                if val <= node.feature_thres:\n",
    "                    return self._predict_tree(x, node.left)\n",
    "                else:\n",
    "                    return self._predict_tree(x, node.right)\n",
    "            \n",
    "            return node.label\n",
    "\n",
    "    def print_tree(self):\n",
    "        def fn(node):\n",
    "            if node:\n",
    "                if node.feature_name:\n",
    "                    print(node.feature_name, node.feature_thres)\n",
    "                else:\n",
    "                    print(node.label)\n",
    "                print(\"left -> \")\n",
    "                fn(node.left)\n",
    "                print(\"right -> \")\n",
    "                fn(node.right)\n",
    "            else:\n",
    "                print(\"None end\")\n",
    "\n",
    "        fn(self.root)"
   ]
  },
  {
   "cell_type": "code",
   "execution_count": 123,
   "metadata": {},
   "outputs": [
    {
     "output_type": "stream",
     "name": "stdout",
     "text": [
      "[2]\n[3 3]\n[1]\n[3]\n[0 0 0 0]\n[3]\n[0]\n[3 3]\n[2 2]\n[0]\n[2 2]\n[1 1]\n"
     ]
    }
   ],
   "source": [
    "X = np.random.randint(0, 10, (20, 7))\n",
    "y = np.random.randint(0, 4, (20))\n",
    "tree = DecisionTree()\n",
    "tree.fit(X, y)"
   ]
  },
  {
   "cell_type": "code",
   "execution_count": 124,
   "metadata": {},
   "outputs": [
    {
     "output_type": "execute_result",
     "data": {
      "text/plain": [
       "(array([2, 2, 0, 0, 3, 2, 0, 0, 1, 3, 3, 3, 3, 3, 1, 1, 2, 0, 0, 2]),\n",
       " array([2, 2, 0, 0, 3, 2, 0, 0, 1, 3, 3, 3, 3, 3, 1, 1, 2, 0, 0, 2]))"
      ]
     },
     "metadata": {},
     "execution_count": 124
    }
   ],
   "source": [
    "y, tree.predict(X)"
   ]
  },
  {
   "cell_type": "code",
   "execution_count": null,
   "metadata": {},
   "outputs": [],
   "source": []
  }
 ]
}